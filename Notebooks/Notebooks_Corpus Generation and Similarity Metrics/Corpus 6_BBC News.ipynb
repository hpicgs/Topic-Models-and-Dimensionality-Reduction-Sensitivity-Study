{
 "cells": [
  {
   "cell_type": "code",
   "execution_count": 1,
   "id": "f9d20e66",
   "metadata": {},
   "outputs": [],
   "source": [
    "# https://www.kaggle.com/datasets/hgultekin/bbcnewsarchive"
   ]
  },
  {
   "cell_type": "code",
   "execution_count": 2,
   "id": "0f67e949",
   "metadata": {},
   "outputs": [
    {
     "name": "stderr",
     "output_type": "stream",
     "text": [
      "C:\\Users\\Daniel Atzberger\\anaconda3\\lib\\site-packages\\scipy\\__init__.py:138: UserWarning: A NumPy version >=1.16.5 and <1.23.0 is required for this version of SciPy (detected version 1.23.4)\n",
      "  warnings.warn(f\"A NumPy version >={np_minversion} and <{np_maxversion} is required for this version of \"\n",
      "C:\\Users\\Daniel Atzberger\\anaconda3\\lib\\site-packages\\gensim\\similarities\\__init__.py:15: UserWarning: The gensim.similarities.levenshtein submodule is disabled, because the optional Levenshtein package <https://pypi.org/project/python-Levenshtein/> is unavailable. Install Levenhstein (e.g. `pip install python-Levenshtein`) to suppress this warning.\n",
      "  warnings.warn(msg)\n"
     ]
    }
   ],
   "source": [
    "import gensim\n",
    "import gensim.corpora as corpora\n",
    "from gensim.utils import simple_preprocess\n",
    "\n",
    "import spacy\n",
    "from pprint import pprint\n",
    "import pandas as pd\n",
    "\n",
    "from tqdm import tqdm\n",
    "\n",
    "# NLTK Stop words\n",
    "from nltk.corpus import stopwords\n",
    "stop_words = stopwords.words('english')\n",
    "stop_words.extend(['from','subject','re','edu','use'])"
   ]
  },
  {
   "cell_type": "code",
   "execution_count": 3,
   "id": "bf8f9834",
   "metadata": {},
   "outputs": [
    {
     "data": {
      "text/html": [
       "<div>\n",
       "<style scoped>\n",
       "    .dataframe tbody tr th:only-of-type {\n",
       "        vertical-align: middle;\n",
       "    }\n",
       "\n",
       "    .dataframe tbody tr th {\n",
       "        vertical-align: top;\n",
       "    }\n",
       "\n",
       "    .dataframe thead th {\n",
       "        text-align: right;\n",
       "    }\n",
       "</style>\n",
       "<table border=\"1\" class=\"dataframe\">\n",
       "  <thead>\n",
       "    <tr style=\"text-align: right;\">\n",
       "      <th></th>\n",
       "      <th>category</th>\n",
       "      <th>filename</th>\n",
       "      <th>title</th>\n",
       "      <th>content</th>\n",
       "    </tr>\n",
       "  </thead>\n",
       "  <tbody>\n",
       "    <tr>\n",
       "      <th>0</th>\n",
       "      <td>business</td>\n",
       "      <td>001.txt</td>\n",
       "      <td>Ad sales boost Time Warner profit</td>\n",
       "      <td>Quarterly profits at US media giant TimeWarne...</td>\n",
       "    </tr>\n",
       "    <tr>\n",
       "      <th>1</th>\n",
       "      <td>business</td>\n",
       "      <td>002.txt</td>\n",
       "      <td>Dollar gains on Greenspan speech</td>\n",
       "      <td>The dollar has hit its highest level against ...</td>\n",
       "    </tr>\n",
       "    <tr>\n",
       "      <th>2</th>\n",
       "      <td>business</td>\n",
       "      <td>003.txt</td>\n",
       "      <td>Yukos unit buyer faces loan claim</td>\n",
       "      <td>The owners of embattled Russian oil giant Yuk...</td>\n",
       "    </tr>\n",
       "    <tr>\n",
       "      <th>3</th>\n",
       "      <td>business</td>\n",
       "      <td>004.txt</td>\n",
       "      <td>High fuel prices hit BA's profits</td>\n",
       "      <td>British Airways has blamed high fuel prices f...</td>\n",
       "    </tr>\n",
       "    <tr>\n",
       "      <th>4</th>\n",
       "      <td>business</td>\n",
       "      <td>005.txt</td>\n",
       "      <td>Pernod takeover talk lifts Domecq</td>\n",
       "      <td>Shares in UK drinks and food firm Allied Dome...</td>\n",
       "    </tr>\n",
       "  </tbody>\n",
       "</table>\n",
       "</div>"
      ],
      "text/plain": [
       "   category filename                              title  \\\n",
       "0  business  001.txt  Ad sales boost Time Warner profit   \n",
       "1  business  002.txt   Dollar gains on Greenspan speech   \n",
       "2  business  003.txt  Yukos unit buyer faces loan claim   \n",
       "3  business  004.txt  High fuel prices hit BA's profits   \n",
       "4  business  005.txt  Pernod takeover talk lifts Domecq   \n",
       "\n",
       "                                             content  \n",
       "0   Quarterly profits at US media giant TimeWarne...  \n",
       "1   The dollar has hit its highest level against ...  \n",
       "2   The owners of embattled Russian oil giant Yuk...  \n",
       "3   British Airways has blamed high fuel prices f...  \n",
       "4   Shares in UK drinks and food firm Allied Dome...  "
      ]
     },
     "execution_count": 3,
     "metadata": {},
     "output_type": "execute_result"
    }
   ],
   "source": [
    "df = pd.read_csv(\"data/corpus_bbc_news.csv\", sep='\\t')\n",
    "df.head()"
   ]
  },
  {
   "cell_type": "code",
   "execution_count": 4,
   "id": "bb94579e",
   "metadata": {},
   "outputs": [
    {
     "data": {
      "text/plain": [
       "{'business', 'entertainment', 'politics', 'sport', 'tech'}"
      ]
     },
     "execution_count": 4,
     "metadata": {},
     "output_type": "execute_result"
    }
   ],
   "source": [
    "set(df[\"category\"].tolist())"
   ]
  },
  {
   "cell_type": "code",
   "execution_count": 5,
   "id": "5b2e2b17",
   "metadata": {},
   "outputs": [],
   "source": [
    "def sent_to_words(sentences):\n",
    "    for sentence in tqdm(sentences):\n",
    "        yield(gensim.utils.simple_preprocess(str(sentence), deacc=True))  # deacc=True removes punctuations"
   ]
  },
  {
   "cell_type": "code",
   "execution_count": 6,
   "id": "589f3abb",
   "metadata": {},
   "outputs": [],
   "source": [
    "# Define functions for stopwords, bigrams, trigrams and lemmatization\n",
    "def remove_stopwords(texts):\n",
    "    return [[word for word in simple_preprocess(str(doc)) if word not in stop_words] for doc in texts]"
   ]
  },
  {
   "cell_type": "code",
   "execution_count": 7,
   "id": "48e4c035",
   "metadata": {},
   "outputs": [],
   "source": [
    "def lemmatization(texts, allowed_postags=['NOUN', 'ADJ', 'VERB', 'ADV']):\n",
    "    \"\"\"https://spacy.io/api/annotation\"\"\"\n",
    "    texts_out = []\n",
    "    for sent in tqdm(texts):\n",
    "        doc = nlp(\" \".join(sent)) \n",
    "        texts_out.append([token.lemma_ for token in doc])\n",
    "    return texts_out"
   ]
  },
  {
   "cell_type": "code",
   "execution_count": 8,
   "id": "5d84179c",
   "metadata": {},
   "outputs": [],
   "source": [
    "doc_added = []\n",
    "for i in range(len(df[\"title\"].tolist())):\n",
    "    doc = df[\"title\"].tolist()[i] + df[\"content\"].tolist()[i]\n",
    "    doc_added.append(doc)"
   ]
  },
  {
   "cell_type": "code",
   "execution_count": 9,
   "id": "c2058987",
   "metadata": {},
   "outputs": [
    {
     "data": {
      "text/plain": [
       "\"Pernod takeover talk lifts Domecq Shares in UK drinks and food firm Allied Domecq have risen on speculation that it could be the target of a takeover by France's Pernod Ricard.  Reports in the Wall Street Journal and the Financial Times suggested that the French spirits firm is considering a bid, but has yet to contact its target. Allied Domecq shares in London rose 4% by 1200 GMT, while Pernod shares in Paris slipped 1.2%. Pernod said it was seeking acquisitions but refused to comment on specifics.  Pernod's last major purchase was a third of US giant Seagram in 2000, the move which propelled it into the global top three of drinks firms. The other two-thirds of Seagram was bought by market leader Diageo. In terms of market value, Pernod - at 7.5bn euros ($9.7bn) - is about 9% smaller than Allied Domecq, which has a capitalisation of £5.7bn ($10.7bn; 8.2bn euros). Last year Pernod tried to buy Glenmorangie, one of Scotland's premier whisky firms, but lost out to luxury goods firm LVMH. Pernod is home to brands including Chivas Regal Scotch whisky, Havana Club rum and Jacob's Creek wine. Allied Domecq's big names include Malibu rum, Courvoisier brandy, Stolichnaya vodka and Ballantine's whisky - as well as snack food chains such as Dunkin' Donuts and Baskin-Robbins ice cream. The WSJ said that the two were ripe for consolidation, having each dealt with problematic parts of their portfolio. Pernod has reduced the debt it took on to fund the Seagram purchase to just 1.8bn euros, while Allied has improved the performance of its fast-food chains. \""
      ]
     },
     "execution_count": 9,
     "metadata": {},
     "output_type": "execute_result"
    }
   ],
   "source": [
    "doc_added[4]"
   ]
  },
  {
   "cell_type": "code",
   "execution_count": 10,
   "id": "e6fce078",
   "metadata": {},
   "outputs": [
    {
     "name": "stderr",
     "output_type": "stream",
     "text": [
      "100%|█████████████████████████████████████████████████████████████████████████████| 2225/2225 [00:02<00:00, 862.62it/s]\n"
     ]
    },
    {
     "name": "stdout",
     "output_type": "stream",
     "text": [
      "Start removing stop words\n",
      "Installing spacy\n"
     ]
    },
    {
     "name": "stderr",
     "output_type": "stream",
     "text": [
      "  0%|                                                                                 | 3/2225 [00:00<01:15, 29.31it/s]"
     ]
    },
    {
     "name": "stdout",
     "output_type": "stream",
     "text": [
      "Start lemmatizing words\n"
     ]
    },
    {
     "name": "stderr",
     "output_type": "stream",
     "text": [
      "100%|██████████████████████████████████████████████████████████████████████████████| 2225/2225 [00:33<00:00, 66.75it/s]\n"
     ]
    }
   ],
   "source": [
    "data = doc_added\n",
    "data_words = list(sent_to_words(data))\n",
    "\n",
    "# Remove Stop Words\n",
    "print(\"Start removing stop words\")\n",
    "data_words_nostops = remove_stopwords(data_words)\n",
    "\n",
    "# Initialize spacy 'en' model, keeping only tagger component (for efficiency)\n",
    "# conda install -c conda-forge spacy-model-en_core_web_sm\n",
    "print(\"Installing spacy\")\n",
    "nlp = spacy.load('en_core_web_sm', disable=['parser', 'ner'])\n",
    "\n",
    "# Do lemmatization keeping only noun, adj, vb, adv\n",
    "print(\"Start lemmatizing words\")\n",
    "#data_lemmatized = lemmatization(data_words_bigrams, allowed_postags=['NOUN', 'ADJ', 'VERB', 'ADV'])\n",
    "data_lemmatized = lemmatization(data_words_nostops, allowed_postags=['NOUN', 'ADJ', 'VERB', 'ADV'])"
   ]
  },
  {
   "cell_type": "code",
   "execution_count": 11,
   "id": "4dd0e8c5",
   "metadata": {},
   "outputs": [
    {
     "name": "stdout",
     "output_type": "stream",
     "text": [
      "Ad sales boost Time Warner profit Quarterly profits at US media giant TimeWarner jumped 76% to $1.13bn (£600m) for the three months to December, from $639m year-earlier.  The firm, which is now one of the biggest investors in Google, benefited from sales of high-speed internet connections and higher advert sales. TimeWarner said fourth quarter sales rose 2% to $11.1bn from $10.9bn. Its profits were buoyed by one-off gains which offset a profit dip at Warner Bros, and less users for AOL.  Time Warner said on Friday that it now owns 8% of search-engine Google. But its own internet business, AOL, had has mixed fortunes. It lost 464,000 subscribers in the fourth quarter profits were lower than in the preceding three quarters. However, the company said AOL's underlying profit before exceptional items rose 8% on the back of stronger internet advertising revenues. It hopes to increase subscribers by offering the online service free to TimeWarner internet customers and will try to sign up AOL's existing customers for high-speed broadband. TimeWarner also has to restate 2000 and 2003 results following a probe by the US Securities Exchange Commission (SEC), which is close to concluding.  Time Warner's fourth quarter profits were slightly better than analysts' expectations. But its film division saw profits slump 27% to $284m, helped by box-office flops Alexander and Catwoman, a sharp contrast to year-earlier, when the third and final film in the Lord of the Rings trilogy boosted results. For the full-year, TimeWarner posted a profit of $3.36bn, up 27% from its 2003 performance, while revenues grew 6.4% to $42.09bn. \"Our financial performance was strong, meeting or exceeding all of our full-year objectives and greatly enhancing our flexibility,\" chairman and chief executive Richard Parsons said. For 2005, TimeWarner is projecting operating earnings growth of around 5%, and also expects higher revenue and wider profit margins.  TimeWarner is to restate its accounts as part of efforts to resolve an inquiry into AOL by US market regulators. It has already offered to pay $300m to settle charges, in a deal that is under review by the SEC. The company said it was unable to estimate the amount it needed to set aside for legal reserves, which it previously set at $500m. It intends to adjust the way it accounts for a deal with German music publisher Bertelsmann's purchase of a stake in AOL Europe, which it had reported as advertising revenue. It will now book the sale of its stake in AOL Europe as a loss on the value of that stake. \n",
      "['ad', 'sale', 'boost', 'time', 'warner', 'profit', 'quarterly', 'profit', 'we', 'media', 'giant', 'timewarner', 'jump', 'bn', 'three', 'month', 'december', 'year', 'early', 'firm', 'one', 'big', 'investor', 'google', 'benefit', 'sale', 'high', 'speed', 'internet', 'connection', 'high', 'advert', 'sale', 'timewarner', 'say', 'fourth', 'quarter', 'sale', 'rise', 'bn', 'bn', 'profit', 'buoy', 'one', 'gain', 'offset', 'profit', 'dip', 'warner', 'bro', 'less', 'user', 'aol', 'time', 'warner', 'say', 'friday', 'own', 'search', 'engine', 'google', 'internet', 'business', 'aol', 'mix', 'fortune', 'lose', 'subscriber', 'fourth', 'quarter', 'profit', 'lower', 'precede', 'three', 'quarter', 'however', 'company', 'say', 'aol', 'underlie', 'profit', 'exceptional', 'item', 'rise', 'back', 'strong', 'internet', 'advertising', 'revenue', 'hope', 'increase', 'subscriber', 'offer', 'online', 'service', 'free', 'timewarner', 'internet', 'customer', 'try', 'sign', 'aol', 'exist', 'customer', 'high', 'speed', 'broadband', 'timewarner', 'also', 'restate', 'result', 'follow', 'probe', 'we', 'security', 'exchange', 'commission', 'sec', 'close', 'concluding', 'time', 'warner', 'fourth', 'quarter', 'profit', 'slightly', 'well', 'analyst', 'expectation', 'film', 'division', 'see', 'profit', 'slump', 'help', 'box', 'office', 'flop', 'alexander', 'catwoman', 'sharp', 'contrast', 'year', 'early', 'third', 'final', 'film', 'lord', 'ring', 'trilogy', 'boost', 'result', 'full', 'year', 'timewarner', 'post', 'profit', 'bn', 'performance', 'revenue', 'grow', 'bn', 'financial', 'performance', 'strong', 'meeting', 'exceed', 'full', 'year', 'objective', 'greatly', 'enhance', 'flexibility', 'chairman', 'chief', 'executive', 'richard', 'parson', 'say', 'timewarner', 'project', 'operating', 'earning', 'growth', 'around', 'also', 'expect', 'high', 'revenue', 'wide', 'profit', 'margin', 'timewarner', 'restate', 'account', 'part', 'effort', 'resolve', 'inquiry', 'aol', 'we', 'market', 'regulator', 'already', 'offer', 'pay', 'settle', 'charge', 'deal', 'review', 'sec', 'company', 'say', 'unable', 'estimate', 'amount', 'need', 'set', 'aside', 'legal', 'reserve', 'previously', 'set', 'intend', 'adjust', 'way', 'account', 'deal', 'german', 'music', 'publisher', 'bertelsmann', 'purchase', 'stake', 'aol', 'europe', 'report', 'advertising', 'revenue', 'book', 'sale', 'stake', 'aol', 'europe', 'loss', 'value', 'stake']\n"
     ]
    }
   ],
   "source": [
    "print(data[0])\n",
    "print(data_lemmatized[0])"
   ]
  },
  {
   "cell_type": "code",
   "execution_count": 12,
   "id": "d78ab35e",
   "metadata": {},
   "outputs": [
    {
     "name": "stderr",
     "output_type": "stream",
     "text": [
      "100%|███████████████████████████████████████████████████████████████████████████| 2225/2225 [00:00<00:00, 46518.12it/s]\n"
     ]
    }
   ],
   "source": [
    "data_lemmatized_min_length = []\n",
    "\n",
    "for sublist in tqdm(data_lemmatized):\n",
    "    # Use a list comprehension to filter out strings with less than two characters\n",
    "    sublist = [word for word in sublist if len(word) > 2]\n",
    "    data_lemmatized_min_length.append(sublist)"
   ]
  },
  {
   "cell_type": "code",
   "execution_count": 13,
   "id": "e7ddd83f",
   "metadata": {},
   "outputs": [
    {
     "name": "stdout",
     "output_type": "stream",
     "text": [
      "Ad sales boost Time Warner profit Quarterly profits at US media giant TimeWarner jumped 76% to $1.13bn (£600m) for the three months to December, from $639m year-earlier.  The firm, which is now one of the biggest investors in Google, benefited from sales of high-speed internet connections and higher advert sales. TimeWarner said fourth quarter sales rose 2% to $11.1bn from $10.9bn. Its profits were buoyed by one-off gains which offset a profit dip at Warner Bros, and less users for AOL.  Time Warner said on Friday that it now owns 8% of search-engine Google. But its own internet business, AOL, had has mixed fortunes. It lost 464,000 subscribers in the fourth quarter profits were lower than in the preceding three quarters. However, the company said AOL's underlying profit before exceptional items rose 8% on the back of stronger internet advertising revenues. It hopes to increase subscribers by offering the online service free to TimeWarner internet customers and will try to sign up AOL's existing customers for high-speed broadband. TimeWarner also has to restate 2000 and 2003 results following a probe by the US Securities Exchange Commission (SEC), which is close to concluding.  Time Warner's fourth quarter profits were slightly better than analysts' expectations. But its film division saw profits slump 27% to $284m, helped by box-office flops Alexander and Catwoman, a sharp contrast to year-earlier, when the third and final film in the Lord of the Rings trilogy boosted results. For the full-year, TimeWarner posted a profit of $3.36bn, up 27% from its 2003 performance, while revenues grew 6.4% to $42.09bn. \"Our financial performance was strong, meeting or exceeding all of our full-year objectives and greatly enhancing our flexibility,\" chairman and chief executive Richard Parsons said. For 2005, TimeWarner is projecting operating earnings growth of around 5%, and also expects higher revenue and wider profit margins.  TimeWarner is to restate its accounts as part of efforts to resolve an inquiry into AOL by US market regulators. It has already offered to pay $300m to settle charges, in a deal that is under review by the SEC. The company said it was unable to estimate the amount it needed to set aside for legal reserves, which it previously set at $500m. It intends to adjust the way it accounts for a deal with German music publisher Bertelsmann's purchase of a stake in AOL Europe, which it had reported as advertising revenue. It will now book the sale of its stake in AOL Europe as a loss on the value of that stake. \n",
      "['ad', 'sale', 'boost', 'time', 'warner', 'profit', 'quarterly', 'profit', 'we', 'media', 'giant', 'timewarner', 'jump', 'bn', 'three', 'month', 'december', 'year', 'early', 'firm', 'one', 'big', 'investor', 'google', 'benefit', 'sale', 'high', 'speed', 'internet', 'connection', 'high', 'advert', 'sale', 'timewarner', 'say', 'fourth', 'quarter', 'sale', 'rise', 'bn', 'bn', 'profit', 'buoy', 'one', 'gain', 'offset', 'profit', 'dip', 'warner', 'bro', 'less', 'user', 'aol', 'time', 'warner', 'say', 'friday', 'own', 'search', 'engine', 'google', 'internet', 'business', 'aol', 'mix', 'fortune', 'lose', 'subscriber', 'fourth', 'quarter', 'profit', 'lower', 'precede', 'three', 'quarter', 'however', 'company', 'say', 'aol', 'underlie', 'profit', 'exceptional', 'item', 'rise', 'back', 'strong', 'internet', 'advertising', 'revenue', 'hope', 'increase', 'subscriber', 'offer', 'online', 'service', 'free', 'timewarner', 'internet', 'customer', 'try', 'sign', 'aol', 'exist', 'customer', 'high', 'speed', 'broadband', 'timewarner', 'also', 'restate', 'result', 'follow', 'probe', 'we', 'security', 'exchange', 'commission', 'sec', 'close', 'concluding', 'time', 'warner', 'fourth', 'quarter', 'profit', 'slightly', 'well', 'analyst', 'expectation', 'film', 'division', 'see', 'profit', 'slump', 'help', 'box', 'office', 'flop', 'alexander', 'catwoman', 'sharp', 'contrast', 'year', 'early', 'third', 'final', 'film', 'lord', 'ring', 'trilogy', 'boost', 'result', 'full', 'year', 'timewarner', 'post', 'profit', 'bn', 'performance', 'revenue', 'grow', 'bn', 'financial', 'performance', 'strong', 'meeting', 'exceed', 'full', 'year', 'objective', 'greatly', 'enhance', 'flexibility', 'chairman', 'chief', 'executive', 'richard', 'parson', 'say', 'timewarner', 'project', 'operating', 'earning', 'growth', 'around', 'also', 'expect', 'high', 'revenue', 'wide', 'profit', 'margin', 'timewarner', 'restate', 'account', 'part', 'effort', 'resolve', 'inquiry', 'aol', 'we', 'market', 'regulator', 'already', 'offer', 'pay', 'settle', 'charge', 'deal', 'review', 'sec', 'company', 'say', 'unable', 'estimate', 'amount', 'need', 'set', 'aside', 'legal', 'reserve', 'previously', 'set', 'intend', 'adjust', 'way', 'account', 'deal', 'german', 'music', 'publisher', 'bertelsmann', 'purchase', 'stake', 'aol', 'europe', 'report', 'advertising', 'revenue', 'book', 'sale', 'stake', 'aol', 'europe', 'loss', 'value', 'stake']\n",
      "['sale', 'boost', 'time', 'warner', 'profit', 'quarterly', 'profit', 'media', 'giant', 'timewarner', 'jump', 'three', 'month', 'december', 'year', 'early', 'firm', 'one', 'big', 'investor', 'google', 'benefit', 'sale', 'high', 'speed', 'internet', 'connection', 'high', 'advert', 'sale', 'timewarner', 'say', 'fourth', 'quarter', 'sale', 'rise', 'profit', 'buoy', 'one', 'gain', 'offset', 'profit', 'dip', 'warner', 'bro', 'less', 'user', 'aol', 'time', 'warner', 'say', 'friday', 'own', 'search', 'engine', 'google', 'internet', 'business', 'aol', 'mix', 'fortune', 'lose', 'subscriber', 'fourth', 'quarter', 'profit', 'lower', 'precede', 'three', 'quarter', 'however', 'company', 'say', 'aol', 'underlie', 'profit', 'exceptional', 'item', 'rise', 'back', 'strong', 'internet', 'advertising', 'revenue', 'hope', 'increase', 'subscriber', 'offer', 'online', 'service', 'free', 'timewarner', 'internet', 'customer', 'try', 'sign', 'aol', 'exist', 'customer', 'high', 'speed', 'broadband', 'timewarner', 'also', 'restate', 'result', 'follow', 'probe', 'security', 'exchange', 'commission', 'sec', 'close', 'concluding', 'time', 'warner', 'fourth', 'quarter', 'profit', 'slightly', 'well', 'analyst', 'expectation', 'film', 'division', 'see', 'profit', 'slump', 'help', 'box', 'office', 'flop', 'alexander', 'catwoman', 'sharp', 'contrast', 'year', 'early', 'third', 'final', 'film', 'lord', 'ring', 'trilogy', 'boost', 'result', 'full', 'year', 'timewarner', 'post', 'profit', 'performance', 'revenue', 'grow', 'financial', 'performance', 'strong', 'meeting', 'exceed', 'full', 'year', 'objective', 'greatly', 'enhance', 'flexibility', 'chairman', 'chief', 'executive', 'richard', 'parson', 'say', 'timewarner', 'project', 'operating', 'earning', 'growth', 'around', 'also', 'expect', 'high', 'revenue', 'wide', 'profit', 'margin', 'timewarner', 'restate', 'account', 'part', 'effort', 'resolve', 'inquiry', 'aol', 'market', 'regulator', 'already', 'offer', 'pay', 'settle', 'charge', 'deal', 'review', 'sec', 'company', 'say', 'unable', 'estimate', 'amount', 'need', 'set', 'aside', 'legal', 'reserve', 'previously', 'set', 'intend', 'adjust', 'way', 'account', 'deal', 'german', 'music', 'publisher', 'bertelsmann', 'purchase', 'stake', 'aol', 'europe', 'report', 'advertising', 'revenue', 'book', 'sale', 'stake', 'aol', 'europe', 'loss', 'value', 'stake']\n"
     ]
    }
   ],
   "source": [
    "print(data[0])\n",
    "print(data_lemmatized[0])\n",
    "print(data_lemmatized_min_length[0])"
   ]
  },
  {
   "cell_type": "code",
   "execution_count": 14,
   "id": "a4ddb378",
   "metadata": {},
   "outputs": [
    {
     "name": "stdout",
     "output_type": "stream",
     "text": [
      "[[(0, 2), (1, 1), (2, 1), (3, 2), (4, 1), (5, 1), (6, 2), (7, 1), (8, 1), (9, 7), (10, 1), (11, 1), (12, 1), (13, 1), (14, 1), (15, 1), (16, 1), (17, 2), (18, 1), (19, 1), (20, 1), (21, 1), (22, 1), (23, 1), (24, 1), (25, 1), (26, 1), (27, 1), (28, 1), (29, 2), (30, 1), (31, 1), (32, 1), (33, 2), (34, 2), (35, 1), (36, 1), (37, 1), (38, 2), (39, 1), (40, 1), (41, 1), (42, 1), (43, 1), (44, 2), (45, 1), (46, 1), (47, 1), (48, 1), (49, 1), (50, 1), (51, 1), (52, 2), (53, 1), (54, 1), (55, 1), (56, 1), (57, 1), (58, 1), (59, 1), (60, 3), (61, 1), (62, 1), (63, 2), (64, 1), (65, 1), (66, 1), (67, 2), (68, 1), (69, 1), (70, 1), (71, 1), (72, 4), (73, 1), (74, 1), (75, 1), (76, 1), (77, 1), (78, 4), (79, 1), (80, 1), (81, 1), (82, 1), (83, 1), (84, 1), (85, 1), (86, 1), (87, 1), (88, 1), (89, 1), (90, 1), (91, 1), (92, 1), (93, 1), (94, 1), (95, 1), (96, 1), (97, 2), (98, 1), (99, 1), (100, 2), (101, 1), (102, 1), (103, 1), (104, 1), (105, 1), (106, 1), (107, 2), (108, 1), (109, 1), (110, 1), (111, 1), (112, 10), (113, 1), (114, 1), (115, 1), (116, 4), (117, 1), (118, 1), (119, 1), (120, 1), (121, 1), (122, 2), (123, 2), (124, 4), (125, 1), (126, 1), (127, 1), (128, 2), (129, 5), (130, 5), (131, 1), (132, 2), (133, 1), (134, 1), (135, 1), (136, 2), (137, 1), (138, 1), (139, 1), (140, 1), (141, 1), (142, 2), (143, 3), (144, 2), (145, 2), (146, 1), (147, 2), (148, 3), (149, 7), (150, 1), (151, 1), (152, 1), (153, 1), (154, 1), (155, 1), (156, 4), (157, 1), (158, 1), (159, 1), (160, 4)]]\n"
     ]
    }
   ],
   "source": [
    "# Create Dictionary\n",
    "id2word = corpora.Dictionary(data_lemmatized_min_length)\n",
    "\n",
    "# Create Corpus\n",
    "texts = data_lemmatized_min_length\n",
    "\n",
    "# Term Document Frequency\n",
    "corpus = [id2word.doc2bow(text) for text in texts]\n",
    "\n",
    "# View \n",
    "print(corpus[:1])"
   ]
  },
  {
   "cell_type": "code",
   "execution_count": 15,
   "id": "e6ff85ab",
   "metadata": {},
   "outputs": [
    {
     "name": "stdout",
     "output_type": "stream",
     "text": [
      "2225\n",
      "21961\n"
     ]
    }
   ],
   "source": [
    "# Number of documents\n",
    "print(len(corpus))\n",
    "\n",
    "# Size of the vocabulary\n",
    "print(len(id2word))"
   ]
  },
  {
   "cell_type": "code",
   "execution_count": 16,
   "id": "9a0fccda",
   "metadata": {},
   "outputs": [
    {
     "name": "stdout",
     "output_type": "stream",
     "text": [
      "185\n"
     ]
    }
   ],
   "source": [
    "import statistics\n",
    "\n",
    "def sum_of_second_components(tuple_list):\n",
    "    total_sum = 0\n",
    "    for tup in tuple_list:\n",
    "        total_sum += tup[1]  # Accessing the second component of each tuple\n",
    "    return total_sum\n",
    "\n",
    "lengths = []\n",
    "for doc in corpus:\n",
    "    lengths.append(sum_of_second_components(doc))\n",
    "print(statistics.median(lengths))"
   ]
  },
  {
   "cell_type": "markdown",
   "id": "1cfc6aba",
   "metadata": {},
   "source": [
    "### Topic Models"
   ]
  },
  {
   "cell_type": "markdown",
   "id": "ead8e1e5",
   "metadata": {},
   "source": [
    "#### Vector Space Model (VSM)"
   ]
  },
  {
   "cell_type": "code",
   "execution_count": null,
   "id": "d4a5f7e8",
   "metadata": {},
   "outputs": [],
   "source": [
    "from scipy.sparse import dok_matrix\n",
    "\n",
    "# Define function to convert Gensim corpus to a sparse pandas DataFrame\n",
    "def corpus_to_sparse_dataframe(corpus):\n",
    "    word_freq = dok_matrix((len(corpus), len(id2word)), dtype=int)\n",
    "\n",
    "    for i, doc in enumerate(corpus):\n",
    "        for word_id, freq in doc:\n",
    "            word_freq[i, word_id] = freq\n",
    "\n",
    "    dataframe = pd.DataFrame.sparse.from_spmatrix(word_freq)\n",
    "    dataframe.columns = [id2word[word_id] for word_id in range(len(id2word))]\n",
    "    return dataframe"
   ]
  },
  {
   "cell_type": "code",
   "execution_count": null,
   "id": "b3b86388",
   "metadata": {},
   "outputs": [],
   "source": [
    "VSM = corpus_to_sparse_dataframe(corpus)"
   ]
  },
  {
   "cell_type": "markdown",
   "id": "9b1c316c",
   "metadata": {},
   "source": [
    "#### Vector Space Model & tf-idf (VSM & tf-idf)"
   ]
  },
  {
   "cell_type": "code",
   "execution_count": null,
   "id": "7c5e2902",
   "metadata": {},
   "outputs": [],
   "source": [
    "from gensim.models import TfidfModel\n",
    "\n",
    "model = TfidfModel(corpus)  # fit model\n",
    "tfidf_corpus = model[corpus]"
   ]
  },
  {
   "cell_type": "markdown",
   "id": "c20a6c8b",
   "metadata": {},
   "source": [
    "#### Latent Semantic Indexing (LSI)"
   ]
  },
  {
   "cell_type": "code",
   "execution_count": null,
   "id": "7562f342",
   "metadata": {},
   "outputs": [],
   "source": [
    "from gensim.models import LsiModel\n",
    "\n",
    "K = 10\n",
    "lsi_model = LsiModel(corpus, id2word=id2word, num_topics=K)\n",
    "lsi_model.print_topics(num_topics=K, num_words=10)"
   ]
  },
  {
   "cell_type": "markdown",
   "id": "ac2a2fd5",
   "metadata": {},
   "source": [
    "#### Latent Semantic Indexing & tf-idf (LSI & tf-idf)"
   ]
  },
  {
   "cell_type": "code",
   "execution_count": null,
   "id": "3b7535e0",
   "metadata": {},
   "outputs": [],
   "source": [
    "from gensim.models import LsiModel\n",
    "\n",
    "K = 10\n",
    "tfidf_lsi_model = LsiModel(tfidf_corpus, id2word=id2word, num_topics=K)\n",
    "tfidf_lsi_model.print_topics(num_topics=K, num_words=10)"
   ]
  },
  {
   "cell_type": "markdown",
   "id": "93ef0659",
   "metadata": {},
   "source": [
    "#### Non-Negative Matrix Factorization (NMF)"
   ]
  },
  {
   "cell_type": "code",
   "execution_count": null,
   "id": "e0012ac6",
   "metadata": {},
   "outputs": [],
   "source": [
    "# https://github.com/piskvorky/gensim/blob/develop/docs/notebooks/nmf_tutorial.ipynb\n",
    "from gensim.models.nmf import Nmf\n",
    "\n",
    "K = 10\n",
    "nmf_model = Nmf(corpus, id2word=id2word, num_topics=K)\n",
    "nmf_model.show_topics(num_topics=K, num_words=10)"
   ]
  },
  {
   "cell_type": "markdown",
   "id": "167e44b4",
   "metadata": {},
   "source": [
    "#### Non-Negative Matrix Factorizatin & tf-idf (NMF & tf-idf)"
   ]
  },
  {
   "cell_type": "code",
   "execution_count": null,
   "id": "5c1347b0",
   "metadata": {},
   "outputs": [],
   "source": [
    "# https://github.com/piskvorky/gensim/blob/develop/docs/notebooks/nmf_tutorial.ipynb\n",
    "from gensim.models.nmf import Nmf\n",
    "\n",
    "K = 10\n",
    "tfidf_nmf_model = Nmf(tfidf_corpus, id2word=id2word, num_topics=K)\n",
    "tfidf_nmf_model.show_topics(num_topics=K, num_words=10)"
   ]
  },
  {
   "cell_type": "markdown",
   "id": "a53334ee",
   "metadata": {},
   "source": [
    "#### Latent Dirichlet Allocation (LDA)"
   ]
  },
  {
   "cell_type": "code",
   "execution_count": null,
   "id": "e443b856",
   "metadata": {},
   "outputs": [],
   "source": [
    "# Build LDA model\n",
    "K = 10\n",
    "lda_model = gensim.models.ldamodel.LdaModel(corpus=corpus,\n",
    "                                           id2word=id2word,\n",
    "                                           num_topics=K,\n",
    "                                           random_state=100,\n",
    "                                           update_every=1,\n",
    "                                           chunksize=400,\n",
    "                                           passes=30,\n",
    "                                           alpha='auto',\n",
    "                                           per_word_topics=True)\n",
    "\n",
    "# Print the Keywords in the 3 topics\n",
    "pprint(lda_model.print_topics())"
   ]
  },
  {
   "cell_type": "code",
   "execution_count": null,
   "id": "9db3570d",
   "metadata": {},
   "outputs": [],
   "source": []
  }
 ],
 "metadata": {
  "kernelspec": {
   "display_name": "Python 3 (ipykernel)",
   "language": "python",
   "name": "python3"
  },
  "language_info": {
   "codemirror_mode": {
    "name": "ipython",
    "version": 3
   },
   "file_extension": ".py",
   "mimetype": "text/x-python",
   "name": "python",
   "nbconvert_exporter": "python",
   "pygments_lexer": "ipython3",
   "version": "3.8.8"
  }
 },
 "nbformat": 4,
 "nbformat_minor": 5
}
