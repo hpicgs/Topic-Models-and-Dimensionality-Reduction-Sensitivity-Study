{
 "cells": [
  {
   "cell_type": "code",
   "execution_count": 1,
   "id": "1ff78fae-74cc-4bdb-b69e-2f8d0c817b3e",
   "metadata": {},
   "outputs": [],
   "source": [
    "import pandas as pd"
   ]
  },
  {
   "cell_type": "code",
   "execution_count": 2,
   "id": "5ed594b4-9085-46ba-a5aa-8d57abcef7fd",
   "metadata": {},
   "outputs": [],
   "source": [
    "df_20newsgroup = pd.read_csv(\"Stability_Hyperparameters/results_experiment_2_20_newsgroups.csv\")\n",
    "df_lyrics = pd.read_csv(\"Stability_Hyperparameters/results_experiment_2_lyrics.csv\")\n",
    "df_7categories = pd.read_csv(\"Stability_Hyperparameters/results_experiment_2_seven_categories.csv\")"
   ]
  },
  {
   "cell_type": "code",
   "execution_count": 3,
   "id": "707529fd-b53b-4bac-b465-27cc404c1a63",
   "metadata": {},
   "outputs": [
    {
     "data": {
      "text/html": [
       "<div>\n",
       "<style scoped>\n",
       "    .dataframe tbody tr th:only-of-type {\n",
       "        vertical-align: middle;\n",
       "    }\n",
       "\n",
       "    .dataframe tbody tr th {\n",
       "        vertical-align: top;\n",
       "    }\n",
       "\n",
       "    .dataframe thead th {\n",
       "        text-align: right;\n",
       "    }\n",
       "</style>\n",
       "<table border=\"1\" class=\"dataframe\">\n",
       "  <thead>\n",
       "    <tr style=\"text-align: right;\">\n",
       "      <th></th>\n",
       "      <th>config</th>\n",
       "      <th>short_tm_name</th>\n",
       "      <th>spearman_correlation</th>\n",
       "      <th>pearson_correlation</th>\n",
       "      <th>cluster_ordering</th>\n",
       "      <th>rotation</th>\n",
       "      <th>distance_consistency</th>\n",
       "      <th>silhouette_coefficient</th>\n",
       "      <th>trustworthiness</th>\n",
       "      <th>continuity</th>\n",
       "      <th>local_continuity</th>\n",
       "      <th>mrre_missing</th>\n",
       "      <th>mrre_false</th>\n",
       "      <th>label_preservation</th>\n",
       "      <th>file_name_1</th>\n",
       "      <th>file_name_2</th>\n",
       "    </tr>\n",
       "  </thead>\n",
       "  <tbody>\n",
       "    <tr>\n",
       "      <th>0</th>\n",
       "      <td>mds</td>\n",
       "      <td>BOW</td>\n",
       "      <td>0.524863</td>\n",
       "      <td>0.516456</td>\n",
       "      <td>0.064174</td>\n",
       "      <td>157.327613</td>\n",
       "      <td>0.004066</td>\n",
       "      <td>0.000173</td>\n",
       "      <td>0.590393</td>\n",
       "      <td>0.587055</td>\n",
       "      <td>0.014950</td>\n",
       "      <td>0.590255</td>\n",
       "      <td>0.586970</td>\n",
       "      <td>0.283290</td>\n",
       "      <td>20_newsgroups/random_seed_0/jitter_amount_0.0/...</td>\n",
       "      <td>20_newsgroups/random_seed_0/jitter_amount_0.0/...</td>\n",
       "    </tr>\n",
       "    <tr>\n",
       "      <th>1</th>\n",
       "      <td>mds</td>\n",
       "      <td>BOW</td>\n",
       "      <td>0.524718</td>\n",
       "      <td>0.516294</td>\n",
       "      <td>0.152538</td>\n",
       "      <td>-37.125661</td>\n",
       "      <td>0.003447</td>\n",
       "      <td>0.000375</td>\n",
       "      <td>0.588455</td>\n",
       "      <td>0.590577</td>\n",
       "      <td>0.015215</td>\n",
       "      <td>0.589648</td>\n",
       "      <td>0.592381</td>\n",
       "      <td>0.286636</td>\n",
       "      <td>20_newsgroups/random_seed_0/jitter_amount_0.0/...</td>\n",
       "      <td>20_newsgroups/random_seed_0/jitter_amount_0.0/...</td>\n",
       "    </tr>\n",
       "    <tr>\n",
       "      <th>2</th>\n",
       "      <td>mds</td>\n",
       "      <td>BOW</td>\n",
       "      <td>1.000000</td>\n",
       "      <td>1.000000</td>\n",
       "      <td>1.000000</td>\n",
       "      <td>78.988171</td>\n",
       "      <td>0.000000</td>\n",
       "      <td>0.000000</td>\n",
       "      <td>1.000000</td>\n",
       "      <td>1.000000</td>\n",
       "      <td>0.999381</td>\n",
       "      <td>1.000000</td>\n",
       "      <td>1.000000</td>\n",
       "      <td>1.000000</td>\n",
       "      <td>20_newsgroups/random_seed_0/jitter_amount_0.0/...</td>\n",
       "      <td>20_newsgroups/random_seed_0/jitter_amount_0.0/...</td>\n",
       "    </tr>\n",
       "    <tr>\n",
       "      <th>3</th>\n",
       "      <td>mds</td>\n",
       "      <td>BOW</td>\n",
       "      <td>1.000000</td>\n",
       "      <td>1.000000</td>\n",
       "      <td>1.000000</td>\n",
       "      <td>78.988171</td>\n",
       "      <td>0.000000</td>\n",
       "      <td>0.000000</td>\n",
       "      <td>1.000000</td>\n",
       "      <td>1.000000</td>\n",
       "      <td>0.999381</td>\n",
       "      <td>1.000000</td>\n",
       "      <td>1.000000</td>\n",
       "      <td>1.000000</td>\n",
       "      <td>20_newsgroups/random_seed_0/jitter_amount_0.0/...</td>\n",
       "      <td>20_newsgroups/random_seed_0/jitter_amount_0.0/...</td>\n",
       "    </tr>\n",
       "    <tr>\n",
       "      <th>4</th>\n",
       "      <td>mds</td>\n",
       "      <td>BOW</td>\n",
       "      <td>0.996027</td>\n",
       "      <td>0.997033</td>\n",
       "      <td>0.981509</td>\n",
       "      <td>168.595019</td>\n",
       "      <td>0.000530</td>\n",
       "      <td>0.000021</td>\n",
       "      <td>0.994736</td>\n",
       "      <td>0.994673</td>\n",
       "      <td>0.249741</td>\n",
       "      <td>0.994498</td>\n",
       "      <td>0.994439</td>\n",
       "      <td>0.424935</td>\n",
       "      <td>20_newsgroups/random_seed_0/jitter_amount_0.0/...</td>\n",
       "      <td>20_newsgroups/random_seed_0/jitter_amount_0.0/...</td>\n",
       "    </tr>\n",
       "    <tr>\n",
       "      <th>5</th>\n",
       "      <td>mds</td>\n",
       "      <td>BOW</td>\n",
       "      <td>0.998367</td>\n",
       "      <td>0.998771</td>\n",
       "      <td>0.990484</td>\n",
       "      <td>-153.318341</td>\n",
       "      <td>0.001149</td>\n",
       "      <td>0.000005</td>\n",
       "      <td>0.997989</td>\n",
       "      <td>0.997937</td>\n",
       "      <td>0.376727</td>\n",
       "      <td>0.997796</td>\n",
       "      <td>0.997742</td>\n",
       "      <td>0.506238</td>\n",
       "      <td>20_newsgroups/random_seed_0/jitter_amount_0.0/...</td>\n",
       "      <td>20_newsgroups/random_seed_0/jitter_amount_0.0/...</td>\n",
       "    </tr>\n",
       "  </tbody>\n",
       "</table>\n",
       "</div>"
      ],
      "text/plain": [
       "  config short_tm_name  spearman_correlation  pearson_correlation  \\\n",
       "0    mds           BOW              0.524863             0.516456   \n",
       "1    mds           BOW              0.524718             0.516294   \n",
       "2    mds           BOW              1.000000             1.000000   \n",
       "3    mds           BOW              1.000000             1.000000   \n",
       "4    mds           BOW              0.996027             0.997033   \n",
       "5    mds           BOW              0.998367             0.998771   \n",
       "\n",
       "   cluster_ordering    rotation  distance_consistency  silhouette_coefficient  \\\n",
       "0          0.064174  157.327613              0.004066                0.000173   \n",
       "1          0.152538  -37.125661              0.003447                0.000375   \n",
       "2          1.000000   78.988171              0.000000                0.000000   \n",
       "3          1.000000   78.988171              0.000000                0.000000   \n",
       "4          0.981509  168.595019              0.000530                0.000021   \n",
       "5          0.990484 -153.318341              0.001149                0.000005   \n",
       "\n",
       "   trustworthiness  continuity  local_continuity  mrre_missing  mrre_false  \\\n",
       "0         0.590393    0.587055          0.014950      0.590255    0.586970   \n",
       "1         0.588455    0.590577          0.015215      0.589648    0.592381   \n",
       "2         1.000000    1.000000          0.999381      1.000000    1.000000   \n",
       "3         1.000000    1.000000          0.999381      1.000000    1.000000   \n",
       "4         0.994736    0.994673          0.249741      0.994498    0.994439   \n",
       "5         0.997989    0.997937          0.376727      0.997796    0.997742   \n",
       "\n",
       "   label_preservation                                        file_name_1  \\\n",
       "0            0.283290  20_newsgroups/random_seed_0/jitter_amount_0.0/...   \n",
       "1            0.286636  20_newsgroups/random_seed_0/jitter_amount_0.0/...   \n",
       "2            1.000000  20_newsgroups/random_seed_0/jitter_amount_0.0/...   \n",
       "3            1.000000  20_newsgroups/random_seed_0/jitter_amount_0.0/...   \n",
       "4            0.424935  20_newsgroups/random_seed_0/jitter_amount_0.0/...   \n",
       "5            0.506238  20_newsgroups/random_seed_0/jitter_amount_0.0/...   \n",
       "\n",
       "                                         file_name_2  \n",
       "0  20_newsgroups/random_seed_0/jitter_amount_0.0/...  \n",
       "1  20_newsgroups/random_seed_0/jitter_amount_0.0/...  \n",
       "2  20_newsgroups/random_seed_0/jitter_amount_0.0/...  \n",
       "3  20_newsgroups/random_seed_0/jitter_amount_0.0/...  \n",
       "4  20_newsgroups/random_seed_0/jitter_amount_0.0/...  \n",
       "5  20_newsgroups/random_seed_0/jitter_amount_0.0/...  "
      ]
     },
     "execution_count": 3,
     "metadata": {},
     "output_type": "execute_result"
    }
   ],
   "source": [
    "df = pd.concat([df_20newsgroup, df_lyrics, df_7categories])\n",
    "df = df.reset_index(drop=True)\n",
    "df.head(6)"
   ]
  },
  {
   "cell_type": "code",
   "execution_count": 4,
   "id": "4aba4734-05c7-464e-a3d9-b4bbc5b02bd3",
   "metadata": {},
   "outputs": [],
   "source": [
    "df[\"alpha\"] = (0.25*(df[\"trustworthiness\"] + df[\"continuity\"] + df[\"mrre_missing\"] + df[\"mrre_false\"]) + df['label_preservation'] + df[\"local_continuity\"])/3.0"
   ]
  },
  {
   "cell_type": "code",
   "execution_count": 5,
   "id": "64e9cf4d-7136-4b3c-b36e-c7945dc413f4",
   "metadata": {},
   "outputs": [],
   "source": [
    "df[\"beta\"] = 0.5 * (0.5 * (0.5*(df[\"pearson_correlation\"]+1) + 0.5*(df[\"spearman_correlation\"]+1)) + 0.5*(df[\"cluster_ordering\"]+1))"
   ]
  },
  {
   "cell_type": "code",
   "execution_count": 6,
   "id": "33556851-a6e1-47d5-a818-c20a1b31257b",
   "metadata": {},
   "outputs": [],
   "source": [
    "df[\"gamma\"] = 1 - (df[\"distance_consistency\"]) "
   ]
  },
  {
   "cell_type": "code",
   "execution_count": 7,
   "id": "2059ff8d-8821-40a2-86f8-9badc89f437e",
   "metadata": {},
   "outputs": [
    {
     "data": {
      "text/html": [
       "<div>\n",
       "<style scoped>\n",
       "    .dataframe tbody tr th:only-of-type {\n",
       "        vertical-align: middle;\n",
       "    }\n",
       "\n",
       "    .dataframe tbody tr th {\n",
       "        vertical-align: top;\n",
       "    }\n",
       "\n",
       "    .dataframe thead th {\n",
       "        text-align: right;\n",
       "    }\n",
       "</style>\n",
       "<table border=\"1\" class=\"dataframe\">\n",
       "  <thead>\n",
       "    <tr style=\"text-align: right;\">\n",
       "      <th></th>\n",
       "      <th>config</th>\n",
       "      <th>short_tm_name</th>\n",
       "      <th>alpha</th>\n",
       "      <th>beta</th>\n",
       "      <th>gamma</th>\n",
       "    </tr>\n",
       "  </thead>\n",
       "  <tbody>\n",
       "    <tr>\n",
       "      <th>0</th>\n",
       "      <td>mds</td>\n",
       "      <td>BOW</td>\n",
       "      <td>0.295636</td>\n",
       "      <td>0.646208</td>\n",
       "      <td>0.995934</td>\n",
       "    </tr>\n",
       "    <tr>\n",
       "      <th>1</th>\n",
       "      <td>mds</td>\n",
       "      <td>BOW</td>\n",
       "      <td>0.297372</td>\n",
       "      <td>0.668261</td>\n",
       "      <td>0.996553</td>\n",
       "    </tr>\n",
       "    <tr>\n",
       "      <th>2</th>\n",
       "      <td>mds</td>\n",
       "      <td>BOW</td>\n",
       "      <td>0.999794</td>\n",
       "      <td>1.000000</td>\n",
       "      <td>1.000000</td>\n",
       "    </tr>\n",
       "    <tr>\n",
       "      <th>3</th>\n",
       "      <td>mds</td>\n",
       "      <td>BOW</td>\n",
       "      <td>0.999794</td>\n",
       "      <td>1.000000</td>\n",
       "      <td>1.000000</td>\n",
       "    </tr>\n",
       "    <tr>\n",
       "      <th>4</th>\n",
       "      <td>mds</td>\n",
       "      <td>BOW</td>\n",
       "      <td>0.556421</td>\n",
       "      <td>0.994510</td>\n",
       "      <td>0.999470</td>\n",
       "    </tr>\n",
       "    <tr>\n",
       "      <th>5</th>\n",
       "      <td>mds</td>\n",
       "      <td>BOW</td>\n",
       "      <td>0.626943</td>\n",
       "      <td>0.997263</td>\n",
       "      <td>0.998851</td>\n",
       "    </tr>\n",
       "  </tbody>\n",
       "</table>\n",
       "</div>"
      ],
      "text/plain": [
       "  config short_tm_name     alpha      beta     gamma\n",
       "0    mds           BOW  0.295636  0.646208  0.995934\n",
       "1    mds           BOW  0.297372  0.668261  0.996553\n",
       "2    mds           BOW  0.999794  1.000000  1.000000\n",
       "3    mds           BOW  0.999794  1.000000  1.000000\n",
       "4    mds           BOW  0.556421  0.994510  0.999470\n",
       "5    mds           BOW  0.626943  0.997263  0.998851"
      ]
     },
     "execution_count": 7,
     "metadata": {},
     "output_type": "execute_result"
    }
   ],
   "source": [
    "df_short = df[['config', 'short_tm_name', 'alpha', 'beta', 'gamma']]\n",
    "df_short.head(6)"
   ]
  },
  {
   "cell_type": "code",
   "execution_count": 8,
   "id": "00be3e42-334f-4689-8a6a-d2130d21da46",
   "metadata": {},
   "outputs": [
    {
     "data": {
      "text/plain": [
       "(15475, 5)"
      ]
     },
     "execution_count": 8,
     "metadata": {},
     "output_type": "execute_result"
    }
   ],
   "source": [
    "df_short.shape"
   ]
  },
  {
   "cell_type": "code",
   "execution_count": 9,
   "id": "56f70808-d7fc-444a-97ef-2927762e6fc3",
   "metadata": {},
   "outputs": [
    {
     "name": "stderr",
     "output_type": "stream",
     "text": [
      "C:\\Users\\Daniel Atzberger\\AppData\\Local\\Temp\\ipykernel_22524\\2025828834.py:1: SettingWithCopyWarning: \n",
      "A value is trying to be set on a copy of a slice from a DataFrame\n",
      "\n",
      "See the caveats in the documentation: https://pandas.pydata.org/pandas-docs/stable/user_guide/indexing.html#returning-a-view-versus-a-copy\n",
      "  df_short['short_tm_name'].replace({\n"
     ]
    }
   ],
   "source": [
    "df_short['short_tm_name'].replace({\n",
    "    'bert_all_distilroberta_v1_n_categories_20': 'BERT',\n",
    "    'bert_all_distilroberta_v1_n_categories_4': 'BERT',\n",
    "    'bert_all_distilroberta_v1_n_categories_7': 'BERT',\n",
    "    'bert_all_mpnet_base_v2_n_categories_20': 'BERT',\n",
    "    'bert_all_mpnet_base_v2_n_categories_4': 'BERT',\n",
    "    'bert_all_mpnet_base_v2_n_categories_7': 'BERT',\n",
    "    'doc2vec_n_topics_12': 'Doc2Vec',\n",
    "    'doc2vec_n_topics_14': 'Doc2Vec',\n",
    "    'doc2vec_n_topics_20': 'Doc2Vec',\n",
    "}, inplace=True)"
   ]
  },
  {
   "cell_type": "code",
   "execution_count": 10,
   "id": "f7c45bdb-a2c5-45ae-ad3f-ad96a6515fed",
   "metadata": {},
   "outputs": [
    {
     "data": {
      "text/plain": [
       "{'BERT', 'BOW', 'Doc2Vec', 'LDA', 'LSI', 'NMF'}"
      ]
     },
     "execution_count": 10,
     "metadata": {},
     "output_type": "execute_result"
    }
   ],
   "source": [
    "set(df_short[\"short_tm_name\"].tolist())"
   ]
  },
  {
   "cell_type": "code",
   "execution_count": 11,
   "id": "92310d3a-a25f-453b-a1e0-c236c8cf97e0",
   "metadata": {},
   "outputs": [],
   "source": [
    "df_short.to_csv(\"StabilityHyperparameters_final.csv\")"
   ]
  },
  {
   "cell_type": "code",
   "execution_count": 12,
   "id": "9ebd3d9c-337a-4ffe-9d9d-b00d2e1bc311",
   "metadata": {},
   "outputs": [
    {
     "name": "stderr",
     "output_type": "stream",
     "text": [
      "C:\\Users\\Daniel Atzberger\\AppData\\Local\\Temp\\ipykernel_22524\\1151187397.py:9: SettingWithCopyWarning: \n",
      "A value is trying to be set on a copy of a slice from a DataFrame\n",
      "\n",
      "See the caveats in the documentation: https://pandas.pydata.org/pandas-docs/stable/user_guide/indexing.html#returning-a-view-versus-a-copy\n",
      "  df_short['short_tm_name'].replace({\n"
     ]
    },
    {
     "data": {
      "text/plain": [
       "(5098, 5)"
      ]
     },
     "execution_count": 12,
     "metadata": {},
     "output_type": "execute_result"
    }
   ],
   "source": [
    "### for 20 Newsgroup \n",
    "df = pd.read_csv(\"Stability_Hyperparameters/results_experiment_2_20_newsgroups.csv\")\n",
    "\n",
    "df[\"alpha\"] = (0.25*(df[\"trustworthiness\"] + df[\"continuity\"] + df[\"mrre_missing\"] + df[\"mrre_false\"]) + df['label_preservation'] + df[\"local_continuity\"])/3.0\n",
    "df[\"beta\"] = 0.5 * (0.5 * (0.5*(df[\"pearson_correlation\"]+1) + 0.5*(df[\"spearman_correlation\"]+1)) + 0.5*(df[\"cluster_ordering\"]+1))\n",
    "df[\"gamma\"] = 1 - (df[\"distance_consistency\"]) \n",
    "df_short = df[['config', 'short_tm_name', 'alpha', 'beta', 'gamma']]\n",
    "\n",
    "df_short['short_tm_name'].replace({\n",
    "    'bert_all_distilroberta_v1_n_categories_20': 'BERT',\n",
    "    'bert_all_distilroberta_v1_n_categories_4': 'BERT',\n",
    "    'bert_all_distilroberta_v1_n_categories_7': 'BERT',\n",
    "    'bert_all_mpnet_base_v2_n_categories_20': 'BERT',\n",
    "    'bert_all_mpnet_base_v2_n_categories_4': 'BERT',\n",
    "    'bert_all_mpnet_base_v2_n_categories_7': 'BERT',\n",
    "    'doc2vec_n_topics_12': 'Doc2Vec',\n",
    "    'doc2vec_n_topics_14': 'Doc2Vec',\n",
    "    'doc2vec_n_topics_20': 'Doc2Vec',\n",
    "}, inplace=True)\n",
    "\n",
    "df_short.shape"
   ]
  },
  {
   "cell_type": "code",
   "execution_count": 13,
   "id": "3c351ae2-90d2-4689-a181-0dd7244531e4",
   "metadata": {},
   "outputs": [],
   "source": [
    "df_short.to_csv(\"StabilityHyperparameters_20Newsgroups_final.csv\")"
   ]
  },
  {
   "cell_type": "code",
   "execution_count": 14,
   "id": "342fc4d2-5981-4902-871b-5e82ba8c4f30",
   "metadata": {},
   "outputs": [
    {
     "name": "stderr",
     "output_type": "stream",
     "text": [
      "C:\\Users\\Daniel Atzberger\\AppData\\Local\\Temp\\ipykernel_22524\\1822954295.py:9: SettingWithCopyWarning: \n",
      "A value is trying to be set on a copy of a slice from a DataFrame\n",
      "\n",
      "See the caveats in the documentation: https://pandas.pydata.org/pandas-docs/stable/user_guide/indexing.html#returning-a-view-versus-a-copy\n",
      "  df_short['short_tm_name'].replace({\n"
     ]
    },
    {
     "data": {
      "text/plain": [
       "(4767, 5)"
      ]
     },
     "execution_count": 14,
     "metadata": {},
     "output_type": "execute_result"
    }
   ],
   "source": [
    "### for Lyrics\n",
    "df = pd.read_csv(\"Stability_Hyperparameters/results_experiment_2_lyrics.csv\")\n",
    "\n",
    "df[\"alpha\"] = (0.25*(df[\"trustworthiness\"] + df[\"continuity\"] + df[\"mrre_missing\"] + df[\"mrre_false\"]) + df['label_preservation'] + df[\"local_continuity\"])/3.0\n",
    "df[\"beta\"] = 0.5 * (0.5 * (0.5*(df[\"pearson_correlation\"]+1) + 0.5*(df[\"spearman_correlation\"]+1)) + 0.5*(df[\"cluster_ordering\"]+1))\n",
    "df[\"gamma\"] = 1 - (df[\"distance_consistency\"]) \n",
    "df_short = df[['config', 'short_tm_name', 'alpha', 'beta', 'gamma']]\n",
    "\n",
    "df_short['short_tm_name'].replace({\n",
    "    'bert_all_distilroberta_v1_n_categories_20': 'BERT',\n",
    "    'bert_all_distilroberta_v1_n_categories_4': 'BERT',\n",
    "    'bert_all_distilroberta_v1_n_categories_7': 'BERT',\n",
    "    'bert_all_mpnet_base_v2_n_categories_20': 'BERT',\n",
    "    'bert_all_mpnet_base_v2_n_categories_4': 'BERT',\n",
    "    'bert_all_mpnet_base_v2_n_categories_7': 'BERT',\n",
    "    'doc2vec_n_topics_12': 'Doc2Vec',\n",
    "    'doc2vec_n_topics_14': 'Doc2Vec',\n",
    "    'doc2vec_n_topics_20': 'Doc2Vec',\n",
    "}, inplace=True)\n",
    "\n",
    "df_short.shape"
   ]
  },
  {
   "cell_type": "code",
   "execution_count": 15,
   "id": "3c4b040e-6409-4593-af23-d06830c5a745",
   "metadata": {},
   "outputs": [],
   "source": [
    "df_short.to_csv(\"StabilityHyperparameters_Lyrics_final.csv\")"
   ]
  },
  {
   "cell_type": "code",
   "execution_count": 16,
   "id": "24446d0d-853e-4287-a8ce-f6cb9d8bb9d7",
   "metadata": {},
   "outputs": [
    {
     "name": "stderr",
     "output_type": "stream",
     "text": [
      "C:\\Users\\Daniel Atzberger\\AppData\\Local\\Temp\\ipykernel_22524\\467081847.py:9: SettingWithCopyWarning: \n",
      "A value is trying to be set on a copy of a slice from a DataFrame\n",
      "\n",
      "See the caveats in the documentation: https://pandas.pydata.org/pandas-docs/stable/user_guide/indexing.html#returning-a-view-versus-a-copy\n",
      "  df_short['short_tm_name'].replace({\n"
     ]
    },
    {
     "data": {
      "text/plain": [
       "(5610, 5)"
      ]
     },
     "execution_count": 16,
     "metadata": {},
     "output_type": "execute_result"
    }
   ],
   "source": [
    "### for Seven Categories\n",
    "df = pd.read_csv(\"Stability_Hyperparameters/results_experiment_2_seven_categories.csv\")\n",
    "\n",
    "df[\"alpha\"] = (0.25*(df[\"trustworthiness\"] + df[\"continuity\"] + df[\"mrre_missing\"] + df[\"mrre_false\"]) + df['label_preservation'] + df[\"local_continuity\"])/3.0\n",
    "df[\"beta\"] = 0.5 * (0.5 * (0.5*(df[\"pearson_correlation\"]+1) + 0.5*(df[\"spearman_correlation\"]+1)) + 0.5*(df[\"cluster_ordering\"]+1))\n",
    "df[\"gamma\"] = 1 - (df[\"distance_consistency\"]) \n",
    "df_short = df[['config', 'short_tm_name', 'alpha', 'beta', 'gamma']]\n",
    "\n",
    "df_short['short_tm_name'].replace({\n",
    "    'bert_all_distilroberta_v1_n_categories_20': 'BERT',\n",
    "    'bert_all_distilroberta_v1_n_categories_4': 'BERT',\n",
    "    'bert_all_distilroberta_v1_n_categories_7': 'BERT',\n",
    "    'bert_all_mpnet_base_v2_n_categories_20': 'BERT',\n",
    "    'bert_all_mpnet_base_v2_n_categories_4': 'BERT',\n",
    "    'bert_all_mpnet_base_v2_n_categories_7': 'BERT',\n",
    "    'doc2vec_n_topics_12': 'Doc2Vec',\n",
    "    'doc2vec_n_topics_14': 'Doc2Vec',\n",
    "    'doc2vec_n_topics_20': 'Doc2Vec',\n",
    "}, inplace=True)\n",
    "\n",
    "df_short.shape"
   ]
  },
  {
   "cell_type": "code",
   "execution_count": 17,
   "id": "2247ff75-a862-4334-8fe5-bb453a5e52eb",
   "metadata": {},
   "outputs": [],
   "source": [
    "df_short.to_csv(\"StabilityHyperparameters_7Categories_final.csv\")"
   ]
  },
  {
   "cell_type": "code",
   "execution_count": null,
   "id": "8c01fa7c-e78d-4d07-a728-93cd8d6bd4c3",
   "metadata": {},
   "outputs": [],
   "source": []
  }
 ],
 "metadata": {
  "kernelspec": {
   "display_name": "Python 3 (ipykernel)",
   "language": "python",
   "name": "python3"
  },
  "language_info": {
   "codemirror_mode": {
    "name": "ipython",
    "version": 3
   },
   "file_extension": ".py",
   "mimetype": "text/x-python",
   "name": "python",
   "nbconvert_exporter": "python",
   "pygments_lexer": "ipython3",
   "version": "3.11.7"
  }
 },
 "nbformat": 4,
 "nbformat_minor": 5
}
