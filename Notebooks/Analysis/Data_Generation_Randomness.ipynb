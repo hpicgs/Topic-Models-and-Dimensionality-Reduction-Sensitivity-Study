{
 "cells": [
  {
   "cell_type": "code",
   "execution_count": 1,
   "id": "299d6c3e-fea2-4737-9ddf-fd5840435983",
   "metadata": {},
   "outputs": [],
   "source": [
    "import pandas as pd"
   ]
  },
  {
   "cell_type": "code",
   "execution_count": 2,
   "id": "c11892c4-a87d-4c1f-892f-34050d86251e",
   "metadata": {},
   "outputs": [],
   "source": [
    "df_20newsgroup = pd.read_csv(\"Stability_Randomness/results_experiment_3_20_newsgroups.csv\")\n",
    "df_lyrics = pd.read_csv(\"Stability_Randomness/results_experiment_3_lyrics.csv\")\n",
    "df_7categories = pd.read_csv(\"Stability_Randomness/results_experiment_3_seven_categories.csv\")"
   ]
  },
  {
   "cell_type": "code",
   "execution_count": 3,
   "id": "c3cfd631-411f-4421-b2cb-0594bae7450d",
   "metadata": {},
   "outputs": [
    {
     "name": "stdout",
     "output_type": "stream",
     "text": [
      "lyrics/random_seed_0/jitter_amount_0.0/tsne_lyrics_lda_n_topics_12_alpha_auto_iterations_1000_topic_threshold_0.0_45.0_12.0_1000.0_2500_random_barnes_hut_0.5_jensenshannon_5ad95743651b7e9_3d277e052890f1a.npy\n"
     ]
    }
   ],
   "source": [
    "print(df_lyrics[\"file_name_1\"].tolist()[1000])"
   ]
  },
  {
   "cell_type": "code",
   "execution_count": 4,
   "id": "7aba9f1b-7c0d-4d01-a583-421b96cebb5a",
   "metadata": {},
   "outputs": [
    {
     "data": {
      "text/plain": [
       "(2942, 18)"
      ]
     },
     "execution_count": 4,
     "metadata": {},
     "output_type": "execute_result"
    }
   ],
   "source": [
    "df_20newsgroup.shape"
   ]
  },
  {
   "cell_type": "code",
   "execution_count": 5,
   "id": "558e8b65-54e9-4915-9091-c867dba32b9b",
   "metadata": {},
   "outputs": [
    {
     "data": {
      "text/html": [
       "<div>\n",
       "<style scoped>\n",
       "    .dataframe tbody tr th:only-of-type {\n",
       "        vertical-align: middle;\n",
       "    }\n",
       "\n",
       "    .dataframe tbody tr th {\n",
       "        vertical-align: top;\n",
       "    }\n",
       "\n",
       "    .dataframe thead th {\n",
       "        text-align: right;\n",
       "    }\n",
       "</style>\n",
       "<table border=\"1\" class=\"dataframe\">\n",
       "  <thead>\n",
       "    <tr style=\"text-align: right;\">\n",
       "      <th></th>\n",
       "      <th>seed_1</th>\n",
       "      <th>seed_2</th>\n",
       "      <th>spearman_correlation</th>\n",
       "      <th>pearson_correlation</th>\n",
       "      <th>cluster_ordering</th>\n",
       "      <th>rotation</th>\n",
       "      <th>distance_consistency</th>\n",
       "      <th>silhouette_coefficient</th>\n",
       "      <th>trustworthiness</th>\n",
       "      <th>continuity</th>\n",
       "      <th>local_continuity</th>\n",
       "      <th>mrre_missing</th>\n",
       "      <th>mrre_false</th>\n",
       "      <th>label_preservation</th>\n",
       "      <th>file_name_1</th>\n",
       "      <th>file_name_2</th>\n",
       "      <th>config</th>\n",
       "      <th>TM</th>\n",
       "    </tr>\n",
       "  </thead>\n",
       "  <tbody>\n",
       "    <tr>\n",
       "      <th>0</th>\n",
       "      <td>42</td>\n",
       "      <td>0</td>\n",
       "      <td>0.335827</td>\n",
       "      <td>0.342709</td>\n",
       "      <td>0.022005</td>\n",
       "      <td>-5.269229</td>\n",
       "      <td>0.003182</td>\n",
       "      <td>0.000605</td>\n",
       "      <td>0.570144</td>\n",
       "      <td>0.570646</td>\n",
       "      <td>0.012942</td>\n",
       "      <td>0.569979</td>\n",
       "      <td>0.570559</td>\n",
       "      <td>0.306182</td>\n",
       "      <td>20_newsgroups/random_seed_42/jitter_amount_0.0...</td>\n",
       "      <td>20_newsgroups/random_seed_0/jitter_amount_0.0/...</td>\n",
       "      <td>mds</td>\n",
       "      <td>bert_all_distilroberta_v1</td>\n",
       "    </tr>\n",
       "    <tr>\n",
       "      <th>1</th>\n",
       "      <td>42</td>\n",
       "      <td>0</td>\n",
       "      <td>0.335827</td>\n",
       "      <td>0.342709</td>\n",
       "      <td>0.022005</td>\n",
       "      <td>-5.269229</td>\n",
       "      <td>0.003182</td>\n",
       "      <td>0.000605</td>\n",
       "      <td>0.570144</td>\n",
       "      <td>0.570646</td>\n",
       "      <td>0.012942</td>\n",
       "      <td>0.569979</td>\n",
       "      <td>0.570559</td>\n",
       "      <td>0.306182</td>\n",
       "      <td>20_newsgroups/random_seed_42/jitter_amount_0.0...</td>\n",
       "      <td>20_newsgroups/random_seed_0/jitter_amount_0.0/...</td>\n",
       "      <td>mds</td>\n",
       "      <td>bert_all_distilroberta_v1</td>\n",
       "    </tr>\n",
       "    <tr>\n",
       "      <th>2</th>\n",
       "      <td>0</td>\n",
       "      <td>42</td>\n",
       "      <td>0.335827</td>\n",
       "      <td>0.342709</td>\n",
       "      <td>0.022005</td>\n",
       "      <td>5.269229</td>\n",
       "      <td>0.003182</td>\n",
       "      <td>0.000605</td>\n",
       "      <td>0.570646</td>\n",
       "      <td>0.570144</td>\n",
       "      <td>0.012942</td>\n",
       "      <td>0.570559</td>\n",
       "      <td>0.569979</td>\n",
       "      <td>0.306182</td>\n",
       "      <td>20_newsgroups/random_seed_0/jitter_amount_0.0/...</td>\n",
       "      <td>20_newsgroups/random_seed_42/jitter_amount_0.0...</td>\n",
       "      <td>mds</td>\n",
       "      <td>bert_all_distilroberta_v1</td>\n",
       "    </tr>\n",
       "    <tr>\n",
       "      <th>3</th>\n",
       "      <td>0</td>\n",
       "      <td>42</td>\n",
       "      <td>0.335827</td>\n",
       "      <td>0.342709</td>\n",
       "      <td>0.022005</td>\n",
       "      <td>5.269229</td>\n",
       "      <td>0.003182</td>\n",
       "      <td>0.000605</td>\n",
       "      <td>0.570646</td>\n",
       "      <td>0.570144</td>\n",
       "      <td>0.012942</td>\n",
       "      <td>0.570559</td>\n",
       "      <td>0.569979</td>\n",
       "      <td>0.306182</td>\n",
       "      <td>20_newsgroups/random_seed_0/jitter_amount_0.0/...</td>\n",
       "      <td>20_newsgroups/random_seed_42/jitter_amount_0.0...</td>\n",
       "      <td>mds</td>\n",
       "      <td>bert_all_distilroberta_v1</td>\n",
       "    </tr>\n",
       "    <tr>\n",
       "      <th>4</th>\n",
       "      <td>0</td>\n",
       "      <td>42</td>\n",
       "      <td>0.335837</td>\n",
       "      <td>0.342724</td>\n",
       "      <td>0.216722</td>\n",
       "      <td>3.938752</td>\n",
       "      <td>0.005657</td>\n",
       "      <td>0.001504</td>\n",
       "      <td>0.572091</td>\n",
       "      <td>0.566810</td>\n",
       "      <td>0.013220</td>\n",
       "      <td>0.571442</td>\n",
       "      <td>0.567709</td>\n",
       "      <td>0.304755</td>\n",
       "      <td>20_newsgroups/random_seed_0/jitter_amount_0.0/...</td>\n",
       "      <td>20_newsgroups/random_seed_42/jitter_amount_0.0...</td>\n",
       "      <td>mds</td>\n",
       "      <td>bert_all_distilroberta_v1</td>\n",
       "    </tr>\n",
       "    <tr>\n",
       "      <th>5</th>\n",
       "      <td>42</td>\n",
       "      <td>0</td>\n",
       "      <td>0.389202</td>\n",
       "      <td>0.389778</td>\n",
       "      <td>0.210851</td>\n",
       "      <td>111.281214</td>\n",
       "      <td>0.003889</td>\n",
       "      <td>0.001087</td>\n",
       "      <td>0.577957</td>\n",
       "      <td>0.576280</td>\n",
       "      <td>0.013081</td>\n",
       "      <td>0.578767</td>\n",
       "      <td>0.577173</td>\n",
       "      <td>0.303391</td>\n",
       "      <td>20_newsgroups/random_seed_42/jitter_amount_0.0...</td>\n",
       "      <td>20_newsgroups/random_seed_0/jitter_amount_0.0/...</td>\n",
       "      <td>mds</td>\n",
       "      <td>bert_all_mpnet_base_v2</td>\n",
       "    </tr>\n",
       "  </tbody>\n",
       "</table>\n",
       "</div>"
      ],
      "text/plain": [
       "   seed_1  seed_2  spearman_correlation  pearson_correlation  \\\n",
       "0      42       0              0.335827             0.342709   \n",
       "1      42       0              0.335827             0.342709   \n",
       "2       0      42              0.335827             0.342709   \n",
       "3       0      42              0.335827             0.342709   \n",
       "4       0      42              0.335837             0.342724   \n",
       "5      42       0              0.389202             0.389778   \n",
       "\n",
       "   cluster_ordering    rotation  distance_consistency  silhouette_coefficient  \\\n",
       "0          0.022005   -5.269229              0.003182                0.000605   \n",
       "1          0.022005   -5.269229              0.003182                0.000605   \n",
       "2          0.022005    5.269229              0.003182                0.000605   \n",
       "3          0.022005    5.269229              0.003182                0.000605   \n",
       "4          0.216722    3.938752              0.005657                0.001504   \n",
       "5          0.210851  111.281214              0.003889                0.001087   \n",
       "\n",
       "   trustworthiness  continuity  local_continuity  mrre_missing  mrre_false  \\\n",
       "0         0.570144    0.570646          0.012942      0.569979    0.570559   \n",
       "1         0.570144    0.570646          0.012942      0.569979    0.570559   \n",
       "2         0.570646    0.570144          0.012942      0.570559    0.569979   \n",
       "3         0.570646    0.570144          0.012942      0.570559    0.569979   \n",
       "4         0.572091    0.566810          0.013220      0.571442    0.567709   \n",
       "5         0.577957    0.576280          0.013081      0.578767    0.577173   \n",
       "\n",
       "   label_preservation                                        file_name_1  \\\n",
       "0            0.306182  20_newsgroups/random_seed_42/jitter_amount_0.0...   \n",
       "1            0.306182  20_newsgroups/random_seed_42/jitter_amount_0.0...   \n",
       "2            0.306182  20_newsgroups/random_seed_0/jitter_amount_0.0/...   \n",
       "3            0.306182  20_newsgroups/random_seed_0/jitter_amount_0.0/...   \n",
       "4            0.304755  20_newsgroups/random_seed_0/jitter_amount_0.0/...   \n",
       "5            0.303391  20_newsgroups/random_seed_42/jitter_amount_0.0...   \n",
       "\n",
       "                                         file_name_2 config  \\\n",
       "0  20_newsgroups/random_seed_0/jitter_amount_0.0/...    mds   \n",
       "1  20_newsgroups/random_seed_0/jitter_amount_0.0/...    mds   \n",
       "2  20_newsgroups/random_seed_42/jitter_amount_0.0...    mds   \n",
       "3  20_newsgroups/random_seed_42/jitter_amount_0.0...    mds   \n",
       "4  20_newsgroups/random_seed_42/jitter_amount_0.0...    mds   \n",
       "5  20_newsgroups/random_seed_0/jitter_amount_0.0/...    mds   \n",
       "\n",
       "                          TM  \n",
       "0  bert_all_distilroberta_v1  \n",
       "1  bert_all_distilroberta_v1  \n",
       "2  bert_all_distilroberta_v1  \n",
       "3  bert_all_distilroberta_v1  \n",
       "4  bert_all_distilroberta_v1  \n",
       "5     bert_all_mpnet_base_v2  "
      ]
     },
     "execution_count": 5,
     "metadata": {},
     "output_type": "execute_result"
    }
   ],
   "source": [
    "df = pd.concat([df_20newsgroup, df_lyrics, df_7categories])\n",
    "df = df.reset_index(drop=True)\n",
    "df.head(6)"
   ]
  },
  {
   "cell_type": "code",
   "execution_count": 6,
   "id": "c5e0d157-a60b-4d42-a38f-fc1ecc12b9e3",
   "metadata": {},
   "outputs": [
    {
     "name": "stdout",
     "output_type": "stream",
     "text": [
      "seven_categories/random_seed_0/jitter_amount_0.0/som_seven_categories_nmf_tfidf_n_topics_14_30_25_28d047b098c287e_68fe285025d5175.npy\n",
      "seven_categories/random_seed_42/jitter_amount_0.0/som_seven_categories_nmf_tfidf_n_topics_14_30_25_28d047b098c287e_68fe285025d5175.npy\n"
     ]
    }
   ],
   "source": [
    "print(df[\"file_name_1\"].tolist()[6500])\n",
    "print(df[\"file_name_2\"].tolist()[6500])"
   ]
  },
  {
   "cell_type": "code",
   "execution_count": 7,
   "id": "9fc808a7-1538-4554-9979-832c657aa166",
   "metadata": {},
   "outputs": [],
   "source": [
    "df[\"alpha\"] = (0.25*(df[\"trustworthiness\"] + df[\"continuity\"] + df[\"mrre_missing\"] + df[\"mrre_false\"]) + df['label_preservation'] + df[\"local_continuity\"])/3.0"
   ]
  },
  {
   "cell_type": "code",
   "execution_count": 8,
   "id": "73824006-2758-489b-8f18-d5e487bcfe17",
   "metadata": {},
   "outputs": [],
   "source": [
    "df[\"beta\"] = 0.5 * (0.5 * (0.5*(df[\"pearson_correlation\"]+1) + 0.5*(df[\"spearman_correlation\"]+1)) + 0.5*(df[\"cluster_ordering\"]+1))"
   ]
  },
  {
   "cell_type": "code",
   "execution_count": 9,
   "id": "4cf9e7e9-76f1-4e7e-aa1d-305a3b3de5c5",
   "metadata": {},
   "outputs": [],
   "source": [
    "df[\"gamma\"] = 1 - (df[\"distance_consistency\"]) "
   ]
  },
  {
   "cell_type": "code",
   "execution_count": 10,
   "id": "832cad00-7e3b-47e9-b19e-74f39865f8d4",
   "metadata": {},
   "outputs": [],
   "source": [
    "df['TM'].replace({\n",
    "    'bert_all_distilroberta_v1': 'BERT',\n",
    "    'bert_all_mpnet_base_v2': 'BERT',\n",
    "    'bow': 'BOW',\n",
    "    'tfidf': 'BOW',\n",
    "    'lda': 'LDA',\n",
    "    'lda_linear_combined': 'LDA',\n",
    "    'lsi': 'LSI',\n",
    "    'lsi_linear_combined': 'LSI',\n",
    "    'lsi_tfidf': 'LSI',\n",
    "    'lsi_linear_combined_tfidf': 'LSI',\n",
    "    'nmf': 'NMF',\n",
    "    'nmf_tfidf': 'NMF',\n",
    "    'nmf_linear_combined': 'NMF',\n",
    "    'nmf_linear_combined_tfidf': 'NMF',\n",
    "    'doc2vec': 'Doc2Vec'\n",
    "}, inplace=True)"
   ]
  },
  {
   "cell_type": "code",
   "execution_count": 11,
   "id": "03748194-cc82-490c-9196-a103a382890e",
   "metadata": {},
   "outputs": [
    {
     "data": {
      "text/plain": [
       "{'BERT', 'BOW', 'Doc2Vec', 'LDA', 'LSI', 'NMF'}"
      ]
     },
     "execution_count": 11,
     "metadata": {},
     "output_type": "execute_result"
    }
   ],
   "source": [
    "set(df[\"TM\"].tolist())"
   ]
  },
  {
   "cell_type": "code",
   "execution_count": 12,
   "id": "c534952c-a342-4cf3-9804-8a7bb6192657",
   "metadata": {},
   "outputs": [
    {
     "data": {
      "text/html": [
       "<div>\n",
       "<style scoped>\n",
       "    .dataframe tbody tr th:only-of-type {\n",
       "        vertical-align: middle;\n",
       "    }\n",
       "\n",
       "    .dataframe tbody tr th {\n",
       "        vertical-align: top;\n",
       "    }\n",
       "\n",
       "    .dataframe thead th {\n",
       "        text-align: right;\n",
       "    }\n",
       "</style>\n",
       "<table border=\"1\" class=\"dataframe\">\n",
       "  <thead>\n",
       "    <tr style=\"text-align: right;\">\n",
       "      <th></th>\n",
       "      <th>config</th>\n",
       "      <th>TM</th>\n",
       "      <th>alpha</th>\n",
       "      <th>beta</th>\n",
       "      <th>gamma</th>\n",
       "    </tr>\n",
       "  </thead>\n",
       "  <tbody>\n",
       "    <tr>\n",
       "      <th>0</th>\n",
       "      <td>mds</td>\n",
       "      <td>BERT</td>\n",
       "      <td>0.296485</td>\n",
       "      <td>0.590318</td>\n",
       "      <td>0.996818</td>\n",
       "    </tr>\n",
       "    <tr>\n",
       "      <th>1</th>\n",
       "      <td>mds</td>\n",
       "      <td>BERT</td>\n",
       "      <td>0.296485</td>\n",
       "      <td>0.590318</td>\n",
       "      <td>0.996818</td>\n",
       "    </tr>\n",
       "    <tr>\n",
       "      <th>2</th>\n",
       "      <td>mds</td>\n",
       "      <td>BERT</td>\n",
       "      <td>0.296485</td>\n",
       "      <td>0.590318</td>\n",
       "      <td>0.996818</td>\n",
       "    </tr>\n",
       "    <tr>\n",
       "      <th>3</th>\n",
       "      <td>mds</td>\n",
       "      <td>BERT</td>\n",
       "      <td>0.296485</td>\n",
       "      <td>0.590318</td>\n",
       "      <td>0.996818</td>\n",
       "    </tr>\n",
       "    <tr>\n",
       "      <th>4</th>\n",
       "      <td>mds</td>\n",
       "      <td>BERT</td>\n",
       "      <td>0.295829</td>\n",
       "      <td>0.639001</td>\n",
       "      <td>0.994343</td>\n",
       "    </tr>\n",
       "    <tr>\n",
       "      <th>5</th>\n",
       "      <td>mds</td>\n",
       "      <td>BERT</td>\n",
       "      <td>0.298006</td>\n",
       "      <td>0.650085</td>\n",
       "      <td>0.996111</td>\n",
       "    </tr>\n",
       "  </tbody>\n",
       "</table>\n",
       "</div>"
      ],
      "text/plain": [
       "  config    TM     alpha      beta     gamma\n",
       "0    mds  BERT  0.296485  0.590318  0.996818\n",
       "1    mds  BERT  0.296485  0.590318  0.996818\n",
       "2    mds  BERT  0.296485  0.590318  0.996818\n",
       "3    mds  BERT  0.296485  0.590318  0.996818\n",
       "4    mds  BERT  0.295829  0.639001  0.994343\n",
       "5    mds  BERT  0.298006  0.650085  0.996111"
      ]
     },
     "execution_count": 12,
     "metadata": {},
     "output_type": "execute_result"
    }
   ],
   "source": [
    "df_short = df[['config', 'TM', 'alpha', 'beta', 'gamma']]\n",
    "df_short.head(6)"
   ]
  },
  {
   "cell_type": "code",
   "execution_count": 13,
   "id": "9071c88a-0300-43cc-9469-cfd5165b1c64",
   "metadata": {},
   "outputs": [],
   "source": [
    "df_short.to_csv('StabilityRandomness_final.csv')"
   ]
  },
  {
   "cell_type": "code",
   "execution_count": null,
   "id": "f70b6e39-e3f0-451f-b3c2-042943f1d2a5",
   "metadata": {},
   "outputs": [],
   "source": [
    "df_short.shape"
   ]
  },
  {
   "cell_type": "code",
   "execution_count": 21,
   "id": "fdde72a5-3d5e-4c35-9fda-01b77ad4d858",
   "metadata": {},
   "outputs": [
    {
     "data": {
      "text/plain": [
       "(2942, 5)"
      ]
     },
     "execution_count": 21,
     "metadata": {},
     "output_type": "execute_result"
    }
   ],
   "source": [
    "### for 20 Newsgroup \n",
    "df = pd.read_csv(\"Stability_Randomness/results_experiment_3_20_newsgroups.csv\")\n",
    "\n",
    "df[\"alpha\"] = (0.25*(df[\"trustworthiness\"] + df[\"continuity\"] + df[\"mrre_missing\"] + df[\"mrre_false\"]) + df['label_preservation'] + df[\"local_continuity\"])/3.0\n",
    "df[\"beta\"] = 0.5 * (0.5 * (0.5*(df[\"pearson_correlation\"]+1) + 0.5*(df[\"spearman_correlation\"]+1)) + 0.5*(df[\"cluster_ordering\"]+1))\n",
    "df[\"gamma\"] = 1 - (df[\"distance_consistency\"]) \n",
    "\n",
    "\n",
    "df['TM'].replace({\n",
    "    'bert_all_distilroberta_v1': 'BERT',\n",
    "    'bert_all_mpnet_base_v2': 'BERT',\n",
    "    'bow': 'BOW',\n",
    "    'tfidf': 'BOW',\n",
    "    'lda': 'LDA',\n",
    "    'lda_linear_combined': 'LDA',\n",
    "    'lsi': 'LSI',\n",
    "    'lsi_linear_combined': 'LSI',\n",
    "    'lsi_tfidf': 'LSI',\n",
    "    'lsi_linear_combined_tfidf': 'LSI',\n",
    "    'nmf': 'NMF',\n",
    "    'nmf_tfidf': 'NMF',\n",
    "    'nmf_linear_combined': 'NMF',\n",
    "    'nmf_linear_combined_tfidf': 'NMF',\n",
    "    'doc2vec': 'Doc2Vec'\n",
    "}, inplace=True)\n",
    "\n",
    "df_short = df[['config', 'TM', 'alpha', 'beta', 'gamma']]\n",
    "\n",
    "df_short.shape"
   ]
  },
  {
   "cell_type": "code",
   "execution_count": 22,
   "id": "d55f79cc-f422-45ce-ad7b-a454e4ff072c",
   "metadata": {},
   "outputs": [
    {
     "data": {
      "text/html": [
       "<div>\n",
       "<style scoped>\n",
       "    .dataframe tbody tr th:only-of-type {\n",
       "        vertical-align: middle;\n",
       "    }\n",
       "\n",
       "    .dataframe tbody tr th {\n",
       "        vertical-align: top;\n",
       "    }\n",
       "\n",
       "    .dataframe thead th {\n",
       "        text-align: right;\n",
       "    }\n",
       "</style>\n",
       "<table border=\"1\" class=\"dataframe\">\n",
       "  <thead>\n",
       "    <tr style=\"text-align: right;\">\n",
       "      <th></th>\n",
       "      <th>config</th>\n",
       "      <th>TM</th>\n",
       "      <th>alpha</th>\n",
       "      <th>beta</th>\n",
       "      <th>gamma</th>\n",
       "    </tr>\n",
       "  </thead>\n",
       "  <tbody>\n",
       "    <tr>\n",
       "      <th>0</th>\n",
       "      <td>mds</td>\n",
       "      <td>BERT</td>\n",
       "      <td>0.296485</td>\n",
       "      <td>0.590318</td>\n",
       "      <td>0.996818</td>\n",
       "    </tr>\n",
       "    <tr>\n",
       "      <th>1</th>\n",
       "      <td>mds</td>\n",
       "      <td>BERT</td>\n",
       "      <td>0.296485</td>\n",
       "      <td>0.590318</td>\n",
       "      <td>0.996818</td>\n",
       "    </tr>\n",
       "    <tr>\n",
       "      <th>2</th>\n",
       "      <td>mds</td>\n",
       "      <td>BERT</td>\n",
       "      <td>0.296485</td>\n",
       "      <td>0.590318</td>\n",
       "      <td>0.996818</td>\n",
       "    </tr>\n",
       "    <tr>\n",
       "      <th>3</th>\n",
       "      <td>mds</td>\n",
       "      <td>BERT</td>\n",
       "      <td>0.296485</td>\n",
       "      <td>0.590318</td>\n",
       "      <td>0.996818</td>\n",
       "    </tr>\n",
       "    <tr>\n",
       "      <th>4</th>\n",
       "      <td>mds</td>\n",
       "      <td>BERT</td>\n",
       "      <td>0.295829</td>\n",
       "      <td>0.639001</td>\n",
       "      <td>0.994343</td>\n",
       "    </tr>\n",
       "  </tbody>\n",
       "</table>\n",
       "</div>"
      ],
      "text/plain": [
       "  config    TM     alpha      beta     gamma\n",
       "0    mds  BERT  0.296485  0.590318  0.996818\n",
       "1    mds  BERT  0.296485  0.590318  0.996818\n",
       "2    mds  BERT  0.296485  0.590318  0.996818\n",
       "3    mds  BERT  0.296485  0.590318  0.996818\n",
       "4    mds  BERT  0.295829  0.639001  0.994343"
      ]
     },
     "execution_count": 22,
     "metadata": {},
     "output_type": "execute_result"
    }
   ],
   "source": [
    "df_short.head()"
   ]
  },
  {
   "cell_type": "code",
   "execution_count": 15,
   "id": "ae216aa2-5e0e-4d7e-b756-a183c4532df2",
   "metadata": {},
   "outputs": [
    {
     "data": {
      "text/plain": [
       "{'BERT', 'BOW', 'Doc2Vec', 'LDA', 'LSI', 'NMF'}"
      ]
     },
     "execution_count": 15,
     "metadata": {},
     "output_type": "execute_result"
    }
   ],
   "source": [
    "set(df[\"TM\"].tolist())"
   ]
  },
  {
   "cell_type": "code",
   "execution_count": 23,
   "id": "4054109a-4042-4f5b-bbd7-c97ceb284507",
   "metadata": {},
   "outputs": [],
   "source": [
    "df_short.to_csv(\"StabilityRandomness_20Newsgroup_final.csv\")"
   ]
  },
  {
   "cell_type": "code",
   "execution_count": 25,
   "id": "3649a820-5a8e-424c-b8ab-925e85d1183f",
   "metadata": {},
   "outputs": [
    {
     "name": "stderr",
     "output_type": "stream",
     "text": [
      "C:\\Users\\Daniel Atzberger\\AppData\\Local\\Temp\\ipykernel_18148\\2211626987.py:9: SettingWithCopyWarning: \n",
      "A value is trying to be set on a copy of a slice from a DataFrame\n",
      "\n",
      "See the caveats in the documentation: https://pandas.pydata.org/pandas-docs/stable/user_guide/indexing.html#returning-a-view-versus-a-copy\n",
      "  df_short['TM'].replace({\n"
     ]
    },
    {
     "data": {
      "text/plain": [
       "(3069, 5)"
      ]
     },
     "execution_count": 25,
     "metadata": {},
     "output_type": "execute_result"
    }
   ],
   "source": [
    "### for Lyrics\n",
    "df = pd.read_csv(\"Stability_Randomness/results_experiment_3_lyrics.csv\")\n",
    "\n",
    "df[\"alpha\"] = (0.25*(df[\"trustworthiness\"] + df[\"continuity\"] + df[\"mrre_missing\"] + df[\"mrre_false\"]) + df['label_preservation'] + df[\"local_continuity\"])/3.0\n",
    "df[\"beta\"] = 0.5 * (0.5 * (0.5*(df[\"pearson_correlation\"]+1) + 0.5*(df[\"spearman_correlation\"]+1)) + 0.5*(df[\"cluster_ordering\"]+1))\n",
    "df[\"gamma\"] = 1 - (df[\"distance_consistency\"]) \n",
    "df_short = df[['config', 'TM', 'alpha', 'beta', 'gamma']]\n",
    "\n",
    "df_short['TM'].replace({\n",
    "    'bert_all_distilroberta_v1': 'BERT',\n",
    "    'bert_all_mpnet_base_v2': 'BERT',\n",
    "    'bow': 'BOW',\n",
    "    'tfidf': 'BOW',\n",
    "    'lda': 'LDA',\n",
    "    'lda_linear_combined': 'LDA',\n",
    "    'lsi': 'LSI',\n",
    "    'lsi_linear_combined': 'LSI',\n",
    "    'lsi_tfidf': 'LSI',\n",
    "    'lsi_linear_combined_tfidf': 'LSI',\n",
    "    'nmf': 'NMF',\n",
    "    'nmf_tfidf': 'NMF',\n",
    "    'nmf_linear_combined': 'NMF',\n",
    "    'nmf_linear_combined_tfidf': 'NMF',\n",
    "    'doc2vec': 'Doc2Vec'\n",
    "}, inplace=True)\n",
    "\n",
    "df_short.shape"
   ]
  },
  {
   "cell_type": "code",
   "execution_count": 26,
   "id": "1eaa97f2-1738-4cc6-8bfc-5b7aa5c01d1d",
   "metadata": {},
   "outputs": [
    {
     "data": {
      "text/html": [
       "<div>\n",
       "<style scoped>\n",
       "    .dataframe tbody tr th:only-of-type {\n",
       "        vertical-align: middle;\n",
       "    }\n",
       "\n",
       "    .dataframe tbody tr th {\n",
       "        vertical-align: top;\n",
       "    }\n",
       "\n",
       "    .dataframe thead th {\n",
       "        text-align: right;\n",
       "    }\n",
       "</style>\n",
       "<table border=\"1\" class=\"dataframe\">\n",
       "  <thead>\n",
       "    <tr style=\"text-align: right;\">\n",
       "      <th></th>\n",
       "      <th>config</th>\n",
       "      <th>TM</th>\n",
       "      <th>alpha</th>\n",
       "      <th>beta</th>\n",
       "      <th>gamma</th>\n",
       "    </tr>\n",
       "  </thead>\n",
       "  <tbody>\n",
       "    <tr>\n",
       "      <th>0</th>\n",
       "      <td>mds</td>\n",
       "      <td>BERT</td>\n",
       "      <td>0.414875</td>\n",
       "      <td>0.512615</td>\n",
       "      <td>0.995452</td>\n",
       "    </tr>\n",
       "    <tr>\n",
       "      <th>1</th>\n",
       "      <td>mds</td>\n",
       "      <td>BERT</td>\n",
       "      <td>0.415801</td>\n",
       "      <td>0.655487</td>\n",
       "      <td>0.996999</td>\n",
       "    </tr>\n",
       "    <tr>\n",
       "      <th>2</th>\n",
       "      <td>mds</td>\n",
       "      <td>BERT</td>\n",
       "      <td>0.415801</td>\n",
       "      <td>0.655487</td>\n",
       "      <td>0.996999</td>\n",
       "    </tr>\n",
       "    <tr>\n",
       "      <th>3</th>\n",
       "      <td>mds</td>\n",
       "      <td>BERT</td>\n",
       "      <td>0.415801</td>\n",
       "      <td>0.655487</td>\n",
       "      <td>0.996999</td>\n",
       "    </tr>\n",
       "    <tr>\n",
       "      <th>4</th>\n",
       "      <td>mds</td>\n",
       "      <td>BERT</td>\n",
       "      <td>0.415801</td>\n",
       "      <td>0.655487</td>\n",
       "      <td>0.996999</td>\n",
       "    </tr>\n",
       "  </tbody>\n",
       "</table>\n",
       "</div>"
      ],
      "text/plain": [
       "  config    TM     alpha      beta     gamma\n",
       "0    mds  BERT  0.414875  0.512615  0.995452\n",
       "1    mds  BERT  0.415801  0.655487  0.996999\n",
       "2    mds  BERT  0.415801  0.655487  0.996999\n",
       "3    mds  BERT  0.415801  0.655487  0.996999\n",
       "4    mds  BERT  0.415801  0.655487  0.996999"
      ]
     },
     "execution_count": 26,
     "metadata": {},
     "output_type": "execute_result"
    }
   ],
   "source": [
    "df_short.head()"
   ]
  },
  {
   "cell_type": "code",
   "execution_count": 28,
   "id": "bd6e4a87-aa9a-421e-9d3c-1cb520cbd3d8",
   "metadata": {},
   "outputs": [],
   "source": [
    "df_short.to_csv(\"StabilityRandomness_Lyrics_final.csv\")"
   ]
  },
  {
   "cell_type": "code",
   "execution_count": 19,
   "id": "194a3560-e0c3-4c46-a4a6-20456cbfb2e6",
   "metadata": {},
   "outputs": [
    {
     "name": "stderr",
     "output_type": "stream",
     "text": [
      "C:\\Users\\Daniel Atzberger\\AppData\\Local\\Temp\\ipykernel_18148\\1556437851.py:9: SettingWithCopyWarning: \n",
      "A value is trying to be set on a copy of a slice from a DataFrame\n",
      "\n",
      "See the caveats in the documentation: https://pandas.pydata.org/pandas-docs/stable/user_guide/indexing.html#returning-a-view-versus-a-copy\n",
      "  df_short['TM'].replace({\n"
     ]
    },
    {
     "data": {
      "text/plain": [
       "(3165, 5)"
      ]
     },
     "execution_count": 19,
     "metadata": {},
     "output_type": "execute_result"
    }
   ],
   "source": [
    "### for Lyrics\n",
    "df = pd.read_csv(\"Stability_Randomness/results_experiment_3_seven_categories.csv\")\n",
    "\n",
    "df[\"alpha\"] = (0.25*(df[\"trustworthiness\"] + df[\"continuity\"] + df[\"mrre_missing\"] + df[\"mrre_false\"]) + df['label_preservation'] + df[\"local_continuity\"])/3.0\n",
    "df[\"beta\"] = 0.5 * (0.5 * (0.5*(df[\"pearson_correlation\"]+1) + 0.5*(df[\"spearman_correlation\"]+1)) + 0.5*(df[\"cluster_ordering\"]+1))\n",
    "df[\"gamma\"] = 1 - (df[\"distance_consistency\"]) \n",
    "df_short = df[['config', 'TM', 'alpha', 'beta', 'gamma']]\n",
    "\n",
    "df_short['TM'].replace({\n",
    "    'bert_all_distilroberta_v1': 'BERT',\n",
    "    'bert_all_mpnet_base_v2': 'BERT',\n",
    "    'bow': 'BOW',\n",
    "    'tfidf': 'BOW',\n",
    "    'lda': 'LDA',\n",
    "    'lda_linear_combined': 'LDA',\n",
    "    'lsi': 'LSI',\n",
    "    'lsi_linear_combined': 'LSI',\n",
    "    'lsi_tfidf': 'LSI',\n",
    "    'lsi_linear_combined_tfidf': 'LSI',\n",
    "    'nmf': 'NMF',\n",
    "    'nmf_tfidf': 'NMF',\n",
    "    'nmf_linear_combined': 'NMF',\n",
    "    'nmf_linear_combined_tfidf': 'NMF',\n",
    "    'doc2vec': 'Doc2Vec'\n",
    "}, inplace=True)\n",
    "\n",
    "df_short.shape"
   ]
  },
  {
   "cell_type": "code",
   "execution_count": 20,
   "id": "72b3b9cd-32f5-492a-8950-46d243cb747b",
   "metadata": {},
   "outputs": [],
   "source": [
    "df_short.to_csv(\"StabilityRandomness_7Categories_final.csv\")"
   ]
  },
  {
   "cell_type": "code",
   "execution_count": null,
   "id": "47d2177d-9b8f-4410-9b35-0cc7fc03e946",
   "metadata": {},
   "outputs": [],
   "source": []
  }
 ],
 "metadata": {
  "kernelspec": {
   "display_name": "Python 3 (ipykernel)",
   "language": "python",
   "name": "python3"
  },
  "language_info": {
   "codemirror_mode": {
    "name": "ipython",
    "version": 3
   },
   "file_extension": ".py",
   "mimetype": "text/x-python",
   "name": "python",
   "nbconvert_exporter": "python",
   "pygments_lexer": "ipython3",
   "version": "3.11.7"
  }
 },
 "nbformat": 4,
 "nbformat_minor": 5
}
